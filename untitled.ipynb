{
 "cells": [
  {
   "cell_type": "code",
   "execution_count": null,
   "id": "9ed9f105",
   "metadata": {},
   "outputs": [],
   "source": [
    "import pandas as pd\n",
    "from sklearn.tree import DecisionTreeClassifier\n",
    "from sklearn.model_selection import train_test_split\n",
    "from sklearn.preprocessing import LabelEncoder\n",
    "from sklearn import tree\n",
    "import matplotlib.pyplot as plt"
   ]
  },
  {
   "cell_type": "code",
   "execution_count": null,
   "id": "95e30bb6",
   "metadata": {},
   "outputs": [],
   "source": [
    "data = pd.read_csv('MLDatasets/Tennis.csv') "
   ]
  },
  {
   "cell_type": "code",
   "execution_count": null,
   "id": "6db5ca94",
   "metadata": {},
   "outputs": [],
   "source": [
    "data.columns = data.columns.astype(str).str.replace('\\xa0', ' ') \n",
    "\n",
    "X = data.drop('Play Tennis', axis=1) \n",
    "y = data['Play Tennis'] \n",
    "\n",
    "X_train, X_test, y_train, y_test = train_test_split(X, y, test_size=0.2, random_state=42)\n",
    "\n",
    "label_encoders_X = {}\n",
    "for column in X.columns:\n",
    "    if X[column].dtype == 'object':\n",
    "        le = LabelEncoder()\n",
    "        X[column] = le.fit_transform(X[column])\n",
    "        X_train[column] = le.transform(X_train[column])\n",
    "        X_test[column] = le.transform(X_test[column])\n",
    "        label_encoders_X[column] = le\n",
    "\n",
    "le_y = LabelEncoder()\n",
    "y = le_y.fit_transform(y)\n",
    "y_train = le_y.transform(y_train)\n",
    "y_test = le_y.transform(y_test)\n",
    "\n",
    "dt_classifier = DecisionTreeClassifier(criterion='entropy') \n",
    "dt_classifier.fit(X_train, y_train)\n",
    "\n",
    "y_pred = dt_classifier.predict(X_test)\n",
    "\n",
    "from sklearn.metrics import accuracy_score, confusion_matrix\n",
    "accuracy = accuracy_score(y_test, y_pred)\n",
    "cm = confusion_matrix(y_test, y_pred)\n",
    "\n",
    "print(f\"Accuracy: {accuracy}\")\n",
    "print(f\"Confusion Matrix:\\n{cm}\")"
   ]
  },
  {
   "cell_type": "code",
   "execution_count": null,
   "id": "4b577655",
   "metadata": {},
   "outputs": [],
   "source": [
    "plt.figure(figsize=(12, 8))\n",
    "tree.plot_tree(dt_classifier,\n",
    "              feature_names=X.columns,\n",
    "              class_names=['No', 'Yes'],\n",
    "              filled=True)\n",
    "\n",
    "plt.savefig(\"decision_tree.png\")\n",
    "\n",
    "plt.show()\n",
    "\n",
    "\n",
    "new_data = pd.DataFrame({\n",
    "    'Outlook': ['Sunny'],\n",
    "    'Temperature': ['Hot'],\n",
    "    'Humidity': ['High'],\n",
    "    'Wind': ['Strong']\n",
    "})\n",
    "\n",
    "for column, le in label_encoders_X.items():\n",
    "    if column in new_data.columns:\n",
    "        new_data[column] = le.transform(new_data[column])\n",
    "\n",
    "prediction = dt_classifier.predict(new_data)\n",
    "decoded_prediction = le_y.inverse_transform(prediction)\n",
    "print(f\"\\nPrediction for new data: {decoded_prediction[0]}\")"
   ]
  },
  {
   "cell_type": "code",
   "execution_count": null,
   "id": "bcecd0f9",
   "metadata": {},
   "outputs": [],
   "source": []
  },
  {
   "cell_type": "code",
   "execution_count": null,
   "id": "03c184a4",
   "metadata": {},
   "outputs": [],
   "source": [
    "\n"
   ]
  }
 ],
 "metadata": {
  "kernelspec": {
   "display_name": "Python 3",
   "language": "python",
   "name": "python3"
  },
  "language_info": {
   "codemirror_mode": {
    "name": "ipython",
    "version": 3
   },
   "file_extension": ".py",
   "mimetype": "text/x-python",
   "name": "python",
   "nbconvert_exporter": "python",
   "pygments_lexer": "ipython3",
   "version": "3.12.6"
  }
 },
 "nbformat": 4,
 "nbformat_minor": 5
}
